{
 "cells": [
  {
   "cell_type": "code",
   "execution_count": 1,
   "id": "7aad8f43",
   "metadata": {},
   "outputs": [],
   "source": [
    "import pandas as pd"
   ]
  },
  {
   "cell_type": "code",
   "execution_count": 2,
   "id": "3f4fc8ea",
   "metadata": {},
   "outputs": [],
   "source": [
    "df = pd.read_csv(\"C:\\\\Nicolas\\\\Proyecto_MedioAmbiental\\\\Proyecto-_Medioambiental\\\\Datasets\\\\owid-co2-data.csv\")"
   ]
  },
  {
   "cell_type": "code",
   "execution_count": 3,
   "id": "f3301daa",
   "metadata": {},
   "outputs": [
    {
     "name": "stdout",
     "output_type": "stream",
     "text": [
      "['country', 'year', 'iso_code', 'population', 'gdp', 'cement_co2', 'cement_co2_per_capita', 'co2', 'co2_growth_abs', 'co2_growth_prct', 'co2_including_luc', 'co2_including_luc_growth_abs', 'co2_including_luc_growth_prct', 'co2_including_luc_per_capita', 'co2_including_luc_per_gdp', 'co2_including_luc_per_unit_energy', 'co2_per_capita', 'co2_per_gdp', 'co2_per_unit_energy', 'coal_co2', 'coal_co2_per_capita', 'consumption_co2', 'consumption_co2_per_capita', 'consumption_co2_per_gdp', 'cumulative_cement_co2', 'cumulative_co2', 'cumulative_co2_including_luc', 'cumulative_coal_co2', 'cumulative_flaring_co2', 'cumulative_gas_co2', 'cumulative_luc_co2', 'cumulative_oil_co2', 'cumulative_other_co2', 'energy_per_capita', 'energy_per_gdp', 'flaring_co2', 'flaring_co2_per_capita', 'gas_co2', 'gas_co2_per_capita', 'ghg_excluding_lucf_per_capita', 'ghg_per_capita', 'land_use_change_co2', 'land_use_change_co2_per_capita', 'methane', 'methane_per_capita', 'nitrous_oxide', 'nitrous_oxide_per_capita', 'oil_co2', 'oil_co2_per_capita', 'other_co2_per_capita', 'other_industry_co2', 'primary_energy_consumption', 'share_global_cement_co2', 'share_global_co2', 'share_global_co2_including_luc', 'share_global_coal_co2', 'share_global_cumulative_cement_co2', 'share_global_cumulative_co2', 'share_global_cumulative_co2_including_luc', 'share_global_cumulative_coal_co2', 'share_global_cumulative_flaring_co2', 'share_global_cumulative_gas_co2', 'share_global_cumulative_luc_co2', 'share_global_cumulative_oil_co2', 'share_global_cumulative_other_co2', 'share_global_flaring_co2', 'share_global_gas_co2', 'share_global_luc_co2', 'share_global_oil_co2', 'share_global_other_co2', 'share_of_temperature_change_from_ghg', 'temperature_change_from_ch4', 'temperature_change_from_co2', 'temperature_change_from_ghg', 'temperature_change_from_n2o', 'total_ghg', 'total_ghg_excluding_lucf', 'trade_co2', 'trade_co2_share']\n"
     ]
    }
   ],
   "source": [
    "print(list(df.columns))"
   ]
  },
  {
   "cell_type": "code",
   "execution_count": 4,
   "id": "c8d624f9",
   "metadata": {},
   "outputs": [],
   "source": [
    "# Creating a subset of the original DataFrame by selecting all columns containing historical CO2 data\n",
    "df_suma_histoica_co2 = df.loc[:, 'country': 'cumulative_other_co2']"
   ]
  },
  {
   "cell_type": "code",
   "execution_count": 5,
   "id": "73c46cc8",
   "metadata": {},
   "outputs": [],
   "source": [
    "# Dropping columns from index 5 to 23 (inclusive)\n",
    "cols_a_eliminar = df_suma_histoica_co2.columns[5:24]\n",
    "df_suma_histoica_co2 = df_suma_histoica_co2.drop(columns=cols_a_eliminar)"
   ]
  },
  {
   "cell_type": "code",
   "execution_count": 6,
   "id": "34ae2997",
   "metadata": {},
   "outputs": [],
   "source": [
    "# Dropping columns from 'cumulative_cement_co2' to 'cumulative_other_co2'\n",
    "cols_a_eliminar_dos = df_suma_histoica_co2.loc[:, 'cumulative_cement_co2':'cumulative_other_co2'].columns"
   ]
  },
  {
   "cell_type": "code",
   "execution_count": 7,
   "id": "502d2ab7",
   "metadata": {},
   "outputs": [],
   "source": [
    "# Cleaning DataFrame by removing columns from the subset df_suma_histoica_co2\n",
    "df = df.drop(columns=cols_a_eliminar_dos)"
   ]
  },
  {
   "cell_type": "code",
   "execution_count": 8,
   "id": "79c1c941",
   "metadata": {},
   "outputs": [],
   "source": [
    "# filtering columns that start with 'share'\n",
    "# To know all the columns that are within the participation of global emissions\n",
    "cols_share = list(filter(lambda col: col.startswith('share'), df.columns))"
   ]
  },
  {
   "cell_type": "code",
   "execution_count": 9,
   "id": "6450bc04",
   "metadata": {},
   "outputs": [],
   "source": [
    "# Removing columns from index 5 to index 'share_global_cement_co2'\n",
    "start_idx = 5\n",
    "end_idx = list(df.columns).index('share_global_cement_co2') \n",
    "df_global_co2 = df\n",
    "for col in df_global_co2.columns[start_idx:end_idx]:\n",
    "    df_global_co2 = df_global_co2.drop(columns=col)"
   ]
  },
  {
   "cell_type": "code",
   "execution_count": 10,
   "id": "dfb86a58",
   "metadata": {},
   "outputs": [],
   "source": [
    "# Creating a subset of the original DataFrame by selecting all columns containing global emission data\n",
    "df_participation_global_co2 = df_global_co2.loc[:, 'country':'share_of_temperature_change_from_ghg']"
   ]
  },
  {
   "cell_type": "code",
   "execution_count": 11,
   "id": "4bca79da",
   "metadata": {},
   "outputs": [],
   "source": [
    "# Cleaning DataFrame by removing columns from the subset df_participation_global_co2\n",
    "start_index = list(df.columns).index('share_global_cement_co2')\n",
    "end_index = list(df.columns).index('share_of_temperature_change_from_ghg') + 1  # +1 to include the last column\n",
    "for col in df.columns[start_index:end_index]:\n",
    "    df = df.drop(columns=col) "
   ]
  },
  {
   "cell_type": "code",
   "execution_count": 12,
   "id": "0b6c771c",
   "metadata": {},
   "outputs": [],
   "source": [
    "# Creating a list of greenhouse gas and climate change related columns\n",
    "ghg_climate_columns = [\n",
    "    'ghg_excluding_lucf_per_capita',\n",
    "    'ghg_per_capita',\n",
    "    'methane',\n",
    "    'methane_per_capita',\n",
    "    'nitrous_oxide',\n",
    "    'nitrous_oxide_per_capita',\n",
    "    'temperature_change_from_ch4',\n",
    "    'temperature_change_from_co2',\n",
    "    'temperature_change_from_ghg',\n",
    "    'temperature_change_from_n2o',\n",
    "    'total_ghg',\n",
    "    'total_ghg_excluding_lucf'\n",
    "]"
   ]
  },
  {
   "cell_type": "code",
   "execution_count": 13,
   "id": "b664e36c",
   "metadata": {},
   "outputs": [],
   "source": [
    "# Move the columns of ghg_climate_columns to the end of the DataFrame\n",
    "cols = [col for col in df.columns if col not in ghg_climate_columns] + ghg_climate_columns\n",
    "df = df[cols]"
   ]
  },
  {
   "cell_type": "code",
   "execution_count": 14,
   "id": "63306827",
   "metadata": {},
   "outputs": [],
   "source": [
    "# Creating a subset of the original DataFrame by selecting all columns containing climate change and greenhouse gas variables\n",
    "star_index_c = 5\n",
    "end_index_c = list(df.columns).index('ghg_excluding_lucf_per_capita') \n",
    "df_change_ce = df \n",
    "for col in df_change_ce.columns[star_index_c:end_index_c]:\n",
    "    df_change_ce = df_change_ce.drop(columns=col)"
   ]
  },
  {
   "cell_type": "code",
   "execution_count": 15,
   "id": "a9e573d5",
   "metadata": {},
   "outputs": [],
   "source": [
    "df_clim_change_greenhouse = df_change_ce"
   ]
  },
  {
   "cell_type": "code",
   "execution_count": 23,
   "id": "18212cb6",
   "metadata": {},
   "outputs": [],
   "source": [
    "# Cleaning DataFrame by removing columns from the subset df_clim_change_greenhouse\n",
    "star_index_grenn = list(df.columns).index('ghg_excluding_lucf_per_capita')\n",
    "end_index_grenn = list(df.columns).index('total_ghg_excluding_lucf') + 1  # +1 to include the last column\n",
    "for col in df.columns[star_index_grenn:end_index_grenn]:\n",
    "    df = df.drop(columns=col)"
   ]
  },
  {
   "cell_type": "code",
   "execution_count": 16,
   "id": "57f8bc6b",
   "metadata": {},
   "outputs": [],
   "source": [
    "# Creating a list of CO2 growth related columns\n",
    "co2_growth = [\n",
    "    \"co2_growth_abs\",\n",
    "    \"co2_growth_prct\",\n",
    "    \"co2_including_luc_growth_abs\",\n",
    "    \"co2_including_luc_growth_prct\"\n",
    "]"
   ]
  },
  {
   "cell_type": "code",
   "execution_count": 17,
   "id": "15e5eb3e",
   "metadata": {},
   "outputs": [],
   "source": [
    "# Move the columns of co2_growth to the end of the DataFrame\n",
    "cols = [col for col in df.columns if col not in co2_growth] + co2_growth\n",
    "df = df[cols]"
   ]
  },
  {
   "cell_type": "code",
   "execution_count": 18,
   "id": "50e7757f",
   "metadata": {},
   "outputs": [],
   "source": [
    "# Removing columns related to CO2 growth\n",
    "star_index_g = list(df.columns).index(\"co2_growth_abs\")\n",
    "end_index_g = list(df.columns).index(\"co2_including_luc_growth_prct\") + 1\n",
    "for col in df.columns[star_index_g:end_index_g]:\n",
    "    df = df.drop(columns=col)"
   ]
  },
  {
   "cell_type": "code",
   "execution_count": 25,
   "id": "c80beeac",
   "metadata": {},
   "outputs": [],
   "source": [
    "columnas = [\n",
    "    \"country\",\n",
    "    \"year\",\n",
    "    \"iso_code\",\n",
    "    \"population\",\n",
    "    \"gdp\",\n",
    "    \"cement_co2\",\n",
    "    \"cement_co2_per_capita\",\n",
    "    \"co2\",\n",
    "    \"co2_per_capita\",\n",
    "    \"co2_per_gdp\",\n",
    "    \"co2_per_unit_energy\",\n",
    "    \"coal_co2\",\n",
    "    \"coal_co2_per_capita\",\n",
    "    \"gas_co2\",\n",
    "    \"gas_co2_per_capita\",\n",
    "    \"oil_co2\",\n",
    "    \"oil_co2_per_capita\",\n",
    "    \"flaring_co2\",\n",
    "    \"flaring_co2_per_capita\",\n",
    "    \"other_industry_co2\",\n",
    "    \"other_co2_per_capita\",\n",
    "    \"consumption_co2\",\n",
    "    \"consumption_co2_per_capita\",\n",
    "    \"consumption_co2_per_gdp\",\n",
    "    \"trade_co2\",\n",
    "    \"trade_co2_share\",\n",
    "    \"co2_including_luc\",\n",
    "    \"co2_including_luc_per_capita\",\n",
    "    \"co2_including_luc_per_gdp\",\n",
    "    \"co2_including_luc_per_unit_energy\",\n",
    "    \"land_use_change_co2\",\n",
    "    \"land_use_change_co2_per_capita\",\n",
    "    \"energy_per_capita\",\n",
    "    \"energy_per_gdp\",\n",
    "    \"primary_energy_consumption\"\n",
    "]\n"
   ]
  },
  {
   "cell_type": "code",
   "execution_count": null,
   "id": "3a107de3",
   "metadata": {},
   "outputs": [
    {
     "name": "stdout",
     "output_type": "stream",
     "text": [
      "True\n"
     ]
    }
   ],
   "source": [
    "# Verifying if all columns in 'columnas' are present in the DataFrame\n",
    "faltantes = [col for col in df.columns if col not in columnas]\n",
    "if not faltantes:\n",
    "    print(True)\n",
    "else:\n",
    "    print(False)\n",
    "    print(\"Columnas faltantes:\", faltantes)"
   ]
  },
  {
   "cell_type": "code",
   "execution_count": 19,
   "id": "e0736397",
   "metadata": {},
   "outputs": [],
   "source": [
    "#df_suma_histoica_co2 dataset subset \n",
    "#df_participation_global_co2 subset\n",
    "#df_clim_change_greenhouse subset"
   ]
  },
  {
   "cell_type": "code",
   "execution_count": null,
   "id": "26bebf69",
   "metadata": {},
   "outputs": [],
   "source": [
    "# Saving the cleaned subset df_suma_histoica_co2\n",
    "#df_suma_histoica_co2.to_csv(\"C:\\\\Nicolas\\\\Proyecto_MedioAmbiental\\\\Proyecto-_Medioambiental\\\\Datasets\\\\Subsets created\\\\data_historica_co2.csv\", index=False)"
   ]
  },
  {
   "cell_type": "code",
   "execution_count": null,
   "id": "eb119d34",
   "metadata": {},
   "outputs": [],
   "source": [
    "# Saving the cleaned subset df_participation_global_co2\n",
    "#df_participation_global_co2.to_csv(\"C:\\\\Nicolas\\\\Proyecto_MedioAmbiental\\\\Proyecto-_Medioambiental\\\\Datasets\\\\Subsets created\\\\global_CO2_emissions_share_data.csv\", index=False)"
   ]
  },
  {
   "cell_type": "code",
   "execution_count": null,
   "id": "e3c22859",
   "metadata": {},
   "outputs": [],
   "source": [
    "# Saving the cleaned subset df_clim_change_greenhouse\n",
    "#df_clim_change_greenhouse.to_csv(\"C:\\\\Nicolas\\\\Proyecto_MedioAmbiental\\\\Proyecto-_Medioambiental\\\\Datasets\\\\Subsets created\\\\climate_change_greenhouse_data.csv\", index=False)"
   ]
  }
 ],
 "metadata": {
  "kernelspec": {
   "display_name": "Python 3",
   "language": "python",
   "name": "python3"
  },
  "language_info": {
   "codemirror_mode": {
    "name": "ipython",
    "version": 3
   },
   "file_extension": ".py",
   "mimetype": "text/x-python",
   "name": "python",
   "nbconvert_exporter": "python",
   "pygments_lexer": "ipython3",
   "version": "3.13.5"
  }
 },
 "nbformat": 4,
 "nbformat_minor": 5
}
