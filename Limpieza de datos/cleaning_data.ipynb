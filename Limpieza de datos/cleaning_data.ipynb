{
 "cells": [
  {
   "cell_type": "code",
   "execution_count": 4,
   "id": "4b897f73",
   "metadata": {},
   "outputs": [],
   "source": [
    "import pandas as pd\n",
    "import pycountry"
   ]
  },
  {
   "cell_type": "code",
   "execution_count": 5,
   "metadata": {},
   "outputs": [],
   "source": [
    "# Load the greenhouse gas emissions data\n",
    "df_greenhouse = pd.read_csv('https://raw.githubusercontent.com/Nico22724/Proyecto-_Medioambiental/refs/heads/main/Datasets/Subsets%20created/climate_change_greenhouse_data.csv')"
   ]
  },
  {
   "cell_type": "code",
   "execution_count": 6,
   "id": "256bcacc",
   "metadata": {},
   "outputs": [],
   "source": [
    "# Load the historical CO2 data\n",
    "df_data_history = pd.read_csv('https://raw.githubusercontent.com/Nico22724/Proyecto-_Medioambiental/refs/heads/main/Datasets/Subsets%20created/data_historica_co2.csv')"
   ]
  },
  {
   "cell_type": "code",
   "execution_count": 7,
   "id": "020c58ed",
   "metadata": {},
   "outputs": [],
   "source": [
    "# Load the global CO2 emissions share data\n",
    "df_global_emissions = pd.read_csv('https://raw.githubusercontent.com/Nico22724/Proyecto-_Medioambiental/refs/heads/main/Datasets/Subsets%20created/global_CO2_emissions_share_data.csv')"
   ]
  },
  {
   "cell_type": "code",
   "execution_count": 8,
   "id": "5ca962a1",
   "metadata": {},
   "outputs": [],
   "source": [
    "# Load the main CO2 data\n",
    "df_co2_data = pd.read_csv(\"https://raw.githubusercontent.com/Nico22724/Proyecto-_Medioambiental/refs/heads/main/Datasets/owid-co2-data_cleaned.csv\")"
   ]
  },
  {
   "cell_type": "code",
   "execution_count": 9,
   "id": "93f60f77",
   "metadata": {},
   "outputs": [],
   "source": [
    "df_co2_data = df_co2_data.fillna(0)  # Replace NaN values with 0"
   ]
  },
  {
   "cell_type": "code",
   "execution_count": 10,
   "id": "8a00efc8",
   "metadata": {},
   "outputs": [],
   "source": [
    "# Function to clean data by filling NaN values and converting types\n",
    "def clean_data(df_clean):\n",
    "    # Replace NaN values in 'gdp' column with 0\n",
    "    df_clean['gdp'] = df_clean['gdp'].fillna(0)\n",
    "    # Convert 'gdp' column to integer type\n",
    "    df_clean['gdp'] = df_clean['gdp'].fillna(0).astype(int)\n",
    "    # Replace NaN values in 'population' column with 0\n",
    "    df_clean['population'] = df_clean['population'].fillna(0)\n",
    "    # Convert 'population' column to integer type\n",
    "    df_clean['population'] = df_clean['population'].fillna(0).astype(int)\n",
    "    return df_clean\n",
    "\n",
    "# Clean the dataframes\n",
    "df_global_emissions_clean = clean_data(df_global_emissions.copy())\n",
    "df_data_history_clean = clean_data(df_data_history.copy())\n",
    "df_greehouse_clean = clean_data(df_greenhouse.copy())\n",
    "df_co2_data_clean = clean_data(df_co2_data.copy())"
   ]
  },
  {
   "cell_type": "code",
   "execution_count": 11,
   "id": "c10f18f2",
   "metadata": {},
   "outputs": [],
   "source": [
    "def clean_and_convert_range(df, start_idx, end_idx):\n",
    "    for i in range(start_idx, end_idx + 1):\n",
    "        col = df.columns[i]\n",
    "        df[col] = df[col].fillna(0).astype(float)\n",
    "    return df\n"
   ]
  },
  {
   "cell_type": "code",
   "execution_count": 12,
   "id": "ee285b0e",
   "metadata": {},
   "outputs": [],
   "source": [
    "# Find the position of the columns to fill NaN values the dataframe global emissions\n",
    "start_col = df_global_emissions_clean.columns.get_loc(\"share_global_cement_co2\")\n",
    "end_col = df_global_emissions_clean.columns.get_loc(\"share_of_temperature_change_from_ghg\")\n",
    "\n",
    "# Find the position of the columns to fill NaN values in the greenhouse gas emissions dataframe\n",
    "start_col_greenhouse = df_greehouse_clean.columns.get_loc(\"ghg_excluding_lucf_per_capita\")\n",
    "end_col_greenhouse = df_greehouse_clean.columns.get_loc(\"total_ghg_excluding_lucf\")\n",
    "\n",
    "# Find the position of the columns to fill NaN values in the historical CO2 data\n",
    "star_col_history = df_data_history_clean.columns.get_loc(\"cumulative_co2\")\n",
    "end_col_history = df_data_history_clean.columns.get_loc(\"cumulative_other_co2\")"
   ]
  },
  {
   "cell_type": "code",
   "execution_count": 13,
   "id": "2a39b057",
   "metadata": {},
   "outputs": [],
   "source": [
    "# Clean and convert the specified range of columns in the global emissions dataframe\n",
    "df_global_emissions_clean = clean_and_convert_range(df_global_emissions_clean, start_col, end_col)"
   ]
  },
  {
   "cell_type": "code",
   "execution_count": 14,
   "id": "959a556a",
   "metadata": {},
   "outputs": [],
   "source": [
    "# Clean and convert the specified range of columns in the greenhouse gas emissions dataframe\n",
    "df_greehouse_clean = clean_and_convert_range(df_greehouse_clean, start_col_greenhouse, end_col_greenhouse)"
   ]
  },
  {
   "cell_type": "code",
   "execution_count": 15,
   "id": "709e86e8",
   "metadata": {},
   "outputs": [],
   "source": [
    "# Clean and convert the specified range of columns in the historical CO2 data\n",
    "df_data_history_clean = clean_and_convert_range(df_data_history_clean, star_col_history, end_col_history)"
   ]
  },
  {
   "cell_type": "code",
   "execution_count": 18,
   "id": "f8e1ca0b",
   "metadata": {},
   "outputs": [
    {
     "data": {
      "text/plain": [
       "country\n",
       "World                    1026192.957\n",
       "High-income countries     537273.128\n",
       "Non-OECD (GCP)            486510.404\n",
       "OECD (GCP)                471568.761\n",
       "Asia                      421283.808\n",
       "                            ...     \n",
       "Uzbekistan                     0.000\n",
       "Vanuatu                        0.000\n",
       "Vatican                        0.000\n",
       "Wallis and Futuna              0.000\n",
       "Yemen                          0.000\n",
       "Name: consumption_co2, Length: 255, dtype: float64"
      ]
     },
     "execution_count": 18,
     "metadata": {},
     "output_type": "execute_result"
    }
   ],
   "source": [
    "df_co2_data_clean.groupby('country')['consumption_co2'].sum().sort_values(ascending=False)"
   ]
  },
  {
   "cell_type": "code",
   "execution_count": 21,
   "id": "efb2bf19",
   "metadata": {},
   "outputs": [],
   "source": [
    "# Filter the DataFrame to include only valid countries using pycountry\n",
    "paises_validos = [country.name for country in pycountry.countries] # List of valid country names\n",
    "def is_valid_country(df_country_clean):\n",
    "    df_country_clean = df_country_clean[df_country_clean['country'].isin(paises_validos)] # Filter the DataFrame to include only valid countries\n",
    "    return df_country_clean "
   ]
  },
  {
   "cell_type": "code",
   "execution_count": 22,
   "id": "a29e1745",
   "metadata": {},
   "outputs": [],
   "source": [
    "df_global_emissions_clean = is_valid_country(df_global_emissions_clean)\n",
    "df_data_history_clean = is_valid_country(df_data_history_clean)\n",
    "df_greehouse_clean = is_valid_country(df_greehouse_clean)\n",
    "df_co2_data_clean = is_valid_country(df_co2_data_clean)  # Apply the function to the CO2 data"
   ]
  },
  {
   "cell_type": "code",
   "execution_count": 16,
   "id": "b243d51d",
   "metadata": {},
   "outputs": [],
   "source": [
    "#df_global_emissions_clean\n",
    "#df_co2_data_clean\n",
    "#df_data_history_clean\n",
    "#df_greehouse_clean"
   ]
  },
  {
   "cell_type": "code",
   "execution_count": null,
   "id": "dcbbeb79",
   "metadata": {},
   "outputs": [],
   "source": [
    "# Save the cleaned dataframes to CSV files\n",
    "'''\n",
    "df_global_emissions_clean.to_csv('C:\\\\Nicolas\\\\ProyectoMedioAmbiental\\\\ProyectoMedioAmbiental\\\\Proyecto-_Medioambiental\\\\Datasets\\\\Datasets Cleaned\\\\global_emissions_data.csv', index=False)\n",
    "df_co2_data_clean.to_csv('C:\\\\Nicolas\\\\ProyectoMedioAmbiental\\\\ProyectoMedioAmbiental\\\\Proyecto-_Medioambiental\\\\Datasets\\\\Datasets Cleaned\\\\co2_data.csv', index=False)\n",
    "df_data_history_clean.to_csv('C:\\\\Nicolas\\\\ProyectoMedioAmbiental\\\\ProyectoMedioAmbiental\\\\Proyecto-_Medioambiental\\\\Datasets\\\\Datasets Cleaned\\\\data_history.csv', index=False)\n",
    "df_greehouse_clean.to_csv('C:\\\\Nicolas\\\\ProyectoMedioAmbiental\\\\ProyectoMedioAmbiental\\\\Proyecto-_Medioambiental\\\\Datasets\\\\Datasets Cleaned\\\\climate_change_greehouse_data.csv', index=False)\n",
    "'''"
   ]
  }
 ],
 "metadata": {
  "kernelspec": {
   "display_name": "Python 3",
   "language": "python",
   "name": "python3"
  },
  "language_info": {
   "codemirror_mode": {
    "name": "ipython",
    "version": 3
   },
   "file_extension": ".py",
   "mimetype": "text/x-python",
   "name": "python",
   "nbconvert_exporter": "python",
   "pygments_lexer": "ipython3",
   "version": "3.13.5"
  }
 },
 "nbformat": 4,
 "nbformat_minor": 5
}
