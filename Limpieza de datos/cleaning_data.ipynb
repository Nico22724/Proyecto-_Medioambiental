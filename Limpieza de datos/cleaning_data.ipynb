{
 "cells": [
  {
   "cell_type": "code",
   "execution_count": 1,
   "id": "4b897f73",
   "metadata": {},
   "outputs": [],
   "source": [
    "import pandas as pd"
   ]
  },
  {
   "cell_type": "code",
   "execution_count": 49,
   "metadata": {},
   "outputs": [],
   "source": [
    "# Load the greenhouse gas emissions data\n",
    "df_greenhouse = pd.read_csv('C:\\\\Nicolas\\\\Proyecto Medio Ambiental\\\\Proyecto-_Medioambiental\\\\Datasets\\\\Subsets created\\\\climate_change_greenhouse_data.csv')"
   ]
  },
  {
   "cell_type": "code",
   "execution_count": null,
   "id": "256bcacc",
   "metadata": {},
   "outputs": [],
   "source": [
    "# Load the historical CO2 data\n",
    "df_data_history = pd.read_csv('C:\\\\Nicolas\\\\Proyecto Medio Ambiental\\\\Proyecto-_Medioambiental\\\\Datasets\\\\Subsets created\\\\data_historica_co2.csv')"
   ]
  },
  {
   "cell_type": "code",
   "execution_count": null,
   "id": "020c58ed",
   "metadata": {},
   "outputs": [],
   "source": [
    "# Load the global CO2 emissions share data\n",
    "df_global_emissions = pd.read_csv('C:\\\\Nicolas\\\\Proyecto Medio Ambiental\\\\Proyecto-_Medioambiental\\\\Datasets\\\\Subsets created\\\\global_CO2_emissions_share_data.csv')"
   ]
  },
  {
   "cell_type": "code",
   "execution_count": null,
   "id": "5ca962a1",
   "metadata": {},
   "outputs": [],
   "source": [
    "# Load the main CO2 data\n",
    "df_co2_data = pd.read_csv(\"C:\\\\Nicolas\\\\Proyecto Medio Ambiental\\\\Proyecto-_Medioambiental\\\\Datasets\\\\owid-co2-data_cleaned.csv\")"
   ]
  },
  {
   "cell_type": "code",
   "execution_count": 30,
   "id": "93f60f77",
   "metadata": {},
   "outputs": [],
   "source": [
    "df_co2_data = df_co2_data.fillna(0)  # Replace NaN values with 0"
   ]
  },
  {
   "cell_type": "code",
   "execution_count": 61,
   "id": "8a00efc8",
   "metadata": {},
   "outputs": [],
   "source": [
    "# Function to clean data by filling NaN values and converting types\n",
    "def clean_data(df_clean):\n",
    "    # Replace NaN values in 'gdp' column with 0\n",
    "    df_clean['gdp'] = df_clean['gdp'].fillna(0)\n",
    "    # Convert 'gdp' column to integer type\n",
    "    df_clean['gdp'] = df_clean['gdp'].fillna(0).astype(int)\n",
    "    # Replace NaN values in 'population' column with 0\n",
    "    df_clean['population'] = df_clean['population'].fillna(0)\n",
    "    # Convert 'population' column to integer type\n",
    "    df_clean['population'] = df_clean['population'].fillna(0).astype(int)\n",
    "    return df_clean\n",
    "\n",
    "# Clean the dataframes\n",
    "df_global_emissions_clean = clean_data(df_global_emissions.copy())\n",
    "df_data_history_clean = clean_data(df_data_history.copy())\n",
    "df_greehouse_clean = clean_data(df_greenhouse.copy())\n",
    "df_co2_data_clean = clean_data(df_co2_data.copy())"
   ]
  },
  {
   "cell_type": "code",
   "execution_count": 66,
   "id": "c10f18f2",
   "metadata": {},
   "outputs": [],
   "source": [
    "def clean_and_convert_range(df, start_idx, end_idx):\n",
    "    for i in range(start_idx, end_idx + 1):\n",
    "        col = df.columns[i]\n",
    "        df[col] = df[col].fillna(0).astype(float)\n",
    "    return df\n"
   ]
  },
  {
   "cell_type": "code",
   "execution_count": 78,
   "id": "ee285b0e",
   "metadata": {},
   "outputs": [],
   "source": [
    "# Find the position of the columns to fill NaN values the dataframe global emissions\n",
    "start_col = df_global_emissions_clean.columns.get_loc(\"share_global_cement_co2\")\n",
    "end_col = df_global_emissions_clean.columns.get_loc(\"share_of_temperature_change_from_ghg\")\n",
    "\n",
    "# Find the position of the columns to fill NaN values in the greenhouse gas emissions dataframe\n",
    "start_col_greenhouse = df_greehouse_clean.columns.get_loc(\"ghg_excluding_lucf_per_capita\")\n",
    "end_col_greenhouse = df_greehouse_clean.columns.get_loc(\"total_ghg_excluding_lucf\")\n",
    "\n",
    "# Find the position of the columns to fill NaN values in the historical CO2 data\n",
    "star_col_history = df_data_history_clean.columns.get_loc(\"cumulative_co2\")\n",
    "end_col_history = df_data_history_clean.columns.get_loc(\"cumulative_other_co2\")"
   ]
  },
  {
   "cell_type": "code",
   "execution_count": null,
   "id": "2a39b057",
   "metadata": {},
   "outputs": [],
   "source": [
    "# Clean and convert the specified range of columns in the global emissions dataframe\n",
    "df_global_emissions_clean = clean_and_convert_range(df_global_emissions_clean, start_col, end_col)"
   ]
  },
  {
   "cell_type": "code",
   "execution_count": null,
   "id": "959a556a",
   "metadata": {},
   "outputs": [],
   "source": [
    "# Clean and convert the specified range of columns in the greenhouse gas emissions dataframe\n",
    "df_greehouse_clean = clean_and_convert_range(df_greehouse_clean, start_col_greenhouse, end_col_greenhouse)"
   ]
  },
  {
   "cell_type": "code",
   "execution_count": 79,
   "id": "709e86e8",
   "metadata": {},
   "outputs": [],
   "source": [
    "# Clean and convert the specified range of columns in the historical CO2 data\n",
    "df_data_history_clean = clean_and_convert_range(df_data_history_clean, star_col_history, end_col_history)"
   ]
  },
  {
   "cell_type": "code",
   "execution_count": null,
   "id": "b243d51d",
   "metadata": {},
   "outputs": [],
   "source": [
    "#df_global_emissions_clean\n",
    "#df_co2_data_clean\n",
    "#df_data_history_clean\n",
    "#df_greehouse_clean"
   ]
  },
  {
   "cell_type": "code",
   "execution_count": null,
   "id": "dcbbeb79",
   "metadata": {},
   "outputs": [],
   "source": [
    "# Save the cleaned dataframes to CSV files\n",
    "\"\"\" \n",
    "df_global_emissions_clean.to_csv('C:\\\\Nicolas\\\\Proyecto Medio Ambiental\\\\Proyecto-_Medioambiental\\\\Datasets\\\\Datasets Cleaned\\\\global_emissions_clean.csv', index=False)\n",
    "df_co2_data_clean.to_csv('C:\\\\Nicolas\\\\Proyecto Medio Ambiental\\\\Proyecto-_Medioambiental\\\\Datasets\\\\Datasets Cleaned\\\\co2_data_clean.csv', index=False)\n",
    "df_data_history_clean.to_csv('C:\\\\Nicolas\\\\Proyecto Medio Ambiental\\\\Proyecto-_Medioambiental\\\\Datasets\\\\Datasets Cleaned\\\\data_history_clean.csv', index=False)\n",
    "df_greehouse_clean.to_csv('C:\\\\Nicolas\\\\Proyecto Medio Ambiental\\\\Proyecto-_Medioambiental\\\\Datasets\\\\Datasets Cleaned\\\\greehouse_clean.csv', index=False)\n",
    "\"\"\""
   ]
  }
 ],
 "metadata": {
  "kernelspec": {
   "display_name": "Python 3",
   "language": "python",
   "name": "python3"
  },
  "language_info": {
   "codemirror_mode": {
    "name": "ipython",
    "version": 3
   },
   "file_extension": ".py",
   "mimetype": "text/x-python",
   "name": "python",
   "nbconvert_exporter": "python",
   "pygments_lexer": "ipython3",
   "version": "3.11.9"
  }
 },
 "nbformat": 4,
 "nbformat_minor": 5
}
