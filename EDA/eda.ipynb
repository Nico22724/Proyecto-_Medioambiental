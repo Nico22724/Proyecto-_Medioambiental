{
 "cells": [
  {
   "cell_type": "code",
   "execution_count": 30,
   "id": "acdfa26d",
   "metadata": {},
   "outputs": [],
   "source": [
    "import pandas as pd\n",
    "import seaborn as sns\n",
    "import matplotlib.pyplot as plt"
   ]
  },
  {
   "cell_type": "markdown",
   "id": "d1b461f5",
   "metadata": {},
   "source": [
    "<h1>Exploratory Data Analysis</h1>\n",
    "<p>In this section, we will conduct an analysis to identify correlations, anomalies, and statistics that reveal patterns or trends.</p>\n",
    "<p>This step is essential for any subsequent analysis, as it provides an initial understanding of our data.</p>\n",
    "<p>Exploratory Data Analysis (EDA) allows us to understand the structure, quality, and main characteristics of the data before applying models or making decisions. Through visualizations, descriptive statistics, and the detection of outliers, we can identify potential issues, relationships between variables, and opportunities to improve the analysis.</p>\n",
    "<p>We will use tools such as pandas, matplotlib, and seaborn to explore the data both visually and numerically, facilitating interpretation and informed decision-making in the"
   ]
  },
  {
   "cell_type": "markdown",
   "id": "852f85c4",
   "metadata": {},
   "source": [
    "<h5>Let's start by analyzing the main dataset: co2_data_clean</h5>"
   ]
  },
  {
   "cell_type": "code",
   "execution_count": 31,
   "id": "d798eb92",
   "metadata": {},
   "outputs": [],
   "source": [
    "df_co2_data = pd.read_csv('https://raw.githubusercontent.com/Nico22724/Proyecto-_Medioambiental/refs/heads/main/Datasets/Datasets%20Cleaned/co2_data_clean.csv')"
   ]
  },
  {
   "cell_type": "markdown",
   "id": "cc27658e",
   "metadata": {},
   "source": [
    "<p><strong>1. country:</strong> El nombre del país al que corresponden los datos.</p>\n",
    "<p><strong>2. year:</strong> El año en el que se recopilaron los datos.</p>\n",
    "<p><strong>3. iso_code:</strong> El código ISO del país, una forma estándar de identificar países (por ejemplo, \"US\" para Estados Unidos).</p>\n",
    "<p><strong>4. population:</strong> La población total del país en ese año.</p>\n",
    "<p><strong>5. gdp:</strong> El Producto Interno Bruto (PIB) total del país en el año dado, generalmente medido en términos monetarios.</p>\n",
    "<p><strong>6. cement_co2:</strong> Las emisiones de CO2 atribuibles al sector del cemento en el país.</p>\n",
    "<p><strong>7. cement_co2_per_capita:</strong> Las emisiones de CO2 del sector del cemento por persona en el país.</p>\n",
    "<p><strong>8. co2:</strong> Las emisiones totales de CO2 del país.</p>\n",
    "<p><strong>9. co2_including_luc:</strong> Las emisiones totales de CO2 incluyendo el uso de la tierra y los cambios en el uso del suelo (Land Use Change, LUC).</p>\n",
    "<p><strong>10. co2_including_luc_per_capita:</strong> Las emisiones de CO2 per cápita, incluyendo el uso de la tierra y los cambios en el uso del suelo.</p>\n",
    "<p><strong>11. co2_including_luc_per_gdp:</strong> Las emisiones de CO2 por unidad de PIB, considerando también el uso de la tierra y cambios en el uso del suelo.</p>\n",
    "<p><strong>12. co2_including_luc_per_unit_energy:</strong> Las emisiones de CO2 por unidad de energía consumida, con LUC incluido.</p>\n",
    "<p><strong>13. co2_per_capita:</strong> Las emisiones de CO2 per cápita (por persona) del país.</p>\n",
    "<p><strong>14. co2_per_gdp:</strong> Las emisiones de CO2 por unidad de PIB del país.</p>\n",
    "<p><strong>15. co2_per_unit_energy:</strong> Las emisiones de CO2 por unidad de energía consumida en el país.</p>\n",
    "<p><strong>16. coal_co2:</strong> Las emisiones de CO2 generadas por el uso del carbón en el país.</p>\n",
    "<p><strong>17. coal_co2_per_capita:</strong> Las emisiones de CO2 generadas por el uso del carbón por persona en el país.</p>\n",
    "<p><strong>18. consumption_co2:</strong> Las emisiones de CO2 asociadas con el consumo de energía del país (en lugar de la producción).</p>\n",
    "<p><strong>19. consumption_co2_per_capita:</strong> Las emisiones de CO2 asociadas con el consumo de energía per cápita.</p>\n",
    "<p><strong>20. consumption_co2_per_gdp:</strong> Las emisiones de CO2 asociadas con el consumo de energía por unidad de PIB.</p>\n",
    "<p><strong>21. energy_per_capita:</strong> La cantidad de energía consumida per cápita en el país.</p>\n",
    "<p><strong>22. energy_per_gdp:</strong> La cantidad de energía consumida por cada unidad de PIB.</p>\n",
    "<p><strong>23. flaring_co2:</strong> Las emisiones de CO2 generadas por la quema de gas (flaring).</p>\n",
    "<p><strong>24. flaring_co2_per_capita:</strong> Las emisiones de CO2 por flaring per cápita.</p>\n",
    "<p><strong>25. gas_co2:</strong> Las emisiones de CO2 generadas por el uso de gas.</p>\n",
    "<p><strong>26. gas_co2_per_capita:</strong> Las emisiones de CO2 generadas por el uso de gas per cápita.</p>\n",
    "<p><strong>27. land_use_change_co2:</strong> Las emisiones de CO2 asociadas con el cambio en el uso del suelo.</p>\n",
    "<p><strong>28. land_use_change_co2_per_capita:</strong> Las emisiones de CO2 del cambio de uso del suelo per cápita.</p>\n",
    "<p><strong>29. oil_co2:</strong> Las emisiones de CO2 generadas por el uso del petróleo en el país.</p>\n",
    "<p><strong>30. oil_co2_per_capita:</strong> Las emisiones de CO2 generadas por el uso del petróleo per cápita.</p>\n",
    "<p><strong>31. other_co2_per_capita:</strong> Otras emisiones de CO2 per cápita que no están relacionadas con las fuentes mencionadas específicamente (carbón, gas, petróleo, etc.).</p>\n",
    "<p><strong>32. other_industry_co2:</strong> Las emisiones de CO2 generadas por otros sectores industriales no mencionados específicamente en las demás categorías.</p>\n",
    "<p><strong>33. primary_energy_consumption:</strong> El consumo total de energía primaria (energía no procesada, como petróleo, gas, carbón, etc.).</p>\n",
    "<p><strong>34. trade_co2:</strong> Las emisiones de CO2 asociadas con el comercio internacional de productos energéticos.</p>\n",
    "<p><strong>35. trade_co2_share:</strong> La proporción de las emisiones de CO2 relacionadas con el comercio en comparación con las emisiones totales de CO2.</p>\n"
   ]
  },
  {
   "cell_type": "code",
   "execution_count": 32,
   "id": "d2aa65ab",
   "metadata": {},
   "outputs": [
    {
     "data": {
      "application/vnd.microsoft.datawrangler.viewer.v0+json": {
       "columns": [
        {
         "name": "country",
         "rawType": "object",
         "type": "string"
        },
        {
         "name": "consumption_co2",
         "rawType": "float64",
         "type": "float"
        }
       ],
       "ref": "75c896cd-83ef-456d-8aa0-55a7d98b871e",
       "rows": [
        [
         "World",
         "1026192.9569999999"
        ],
        [
         "High-income countries",
         "537273.128"
        ],
        [
         "Non-OECD (GCP)",
         "486510.404"
        ],
        [
         "OECD (GCP)",
         "471568.761"
        ],
        [
         "Asia",
         "421283.808"
        ],
        [
         "Asia (GCP)",
         "376983.297"
        ],
        [
         "Upper-middle-income countries",
         "314847.751"
        ],
        [
         "North America",
         "228420.998"
        ],
        [
         "North America (GCP)",
         "225207.686"
        ],
        [
         "Europe (GCP)",
         "217537.907"
        ],
        [
         "Europe",
         "213940.179"
        ],
        [
         "China",
         "193442.977"
        ],
        [
         "United States",
         "191985.75400000002"
        ],
        [
         "Asia (excl. China and India)",
         "181918.941"
        ],
        [
         "European Union (28)",
         "155802.789"
        ],
        [
         "European Union (27)",
         "134490.099"
        ],
        [
         "Europe (excl. EU-27)",
         "79450.081"
        ],
        [
         "Lower-middle-income countries",
         "77629.907"
        ],
        [
         "Europe (excl. EU-28)",
         "58137.392"
        ],
        [
         "Middle East (GCP)",
         "58103.301999999996"
        ],
        [
         "Japan",
         "46978.476"
        ],
        [
         "India",
         "45921.89"
        ],
        [
         "Russia",
         "42935.959"
        ],
        [
         "North America (excl. USA)",
         "36435.242"
        ],
        [
         "Germany",
         "33413.995"
        ],
        [
         "Africa",
         "32723.934"
        ],
        [
         "Africa (GCP)",
         "32723.934"
        ],
        [
         "International transport",
         "30959.542"
        ],
        [
         "South America (GCP)",
         "29713.914"
        ],
        [
         "South America",
         "29600.471"
        ],
        [
         "United Kingdom",
         "21312.691"
        ],
        [
         "South Korea",
         "18534.291"
        ],
        [
         "Canada",
         "17914.7"
        ],
        [
         "Italy",
         "17708.583"
        ],
        [
         "France",
         "16075.551"
        ],
        [
         "Mexico",
         "15185.286"
        ],
        [
         "Iran",
         "14230.045"
        ],
        [
         "Saudi Arabia",
         "13768.052"
        ],
        [
         "Brazil",
         "13184.225"
        ],
        [
         "Indonesia",
         "12580.283"
        ],
        [
         "Oceania (GCP)",
         "12514.204"
        ],
        [
         "Oceania",
         "12072.426"
        ],
        [
         "Australia",
         "10893.689"
        ],
        [
         "Poland",
         "10364.266"
        ],
        [
         "Turkey",
         "10355.59"
        ],
        [
         "Spain",
         "10314.957"
        ],
        [
         "South Africa",
         "9916.652"
        ],
        [
         "Ukraine",
         "8664.928"
        ],
        [
         "Taiwan",
         "8620.267"
        ],
        [
         "Thailand",
         "6871.955"
        ]
       ],
       "shape": {
        "columns": 1,
        "rows": 255
       }
      },
      "text/plain": [
       "country\n",
       "World                    1026192.957\n",
       "High-income countries     537273.128\n",
       "Non-OECD (GCP)            486510.404\n",
       "OECD (GCP)                471568.761\n",
       "Asia                      421283.808\n",
       "                            ...     \n",
       "Uzbekistan                     0.000\n",
       "Vanuatu                        0.000\n",
       "Vatican                        0.000\n",
       "Wallis and Futuna              0.000\n",
       "Yemen                          0.000\n",
       "Name: consumption_co2, Length: 255, dtype: float64"
      ]
     },
     "execution_count": 32,
     "metadata": {},
     "output_type": "execute_result"
    }
   ],
   "source": [
    "df_co2_data.groupby('country')['consumption_co2'].sum().sort_values(ascending=False)"
   ]
  },
  {
   "cell_type": "code",
   "execution_count": 33,
   "id": "ec867d64",
   "metadata": {},
   "outputs": [],
   "source": [
    "# Importing pycountry for country data \n",
    "import pycountry\n",
    "\n",
    "paises_validos = [country.name for country in pycountry.countries] # List of valid country names\n",
    "df_co2_data = df_co2_data[df_co2_data['country'].isin(paises_validos)] # Filter the DataFrame to include only valid countries"
   ]
  },
  {
   "cell_type": "code",
   "execution_count": 38,
   "id": "2e2f8cb6",
   "metadata": {},
   "outputs": [
    {
     "data": {
      "application/vnd.microsoft.datawrangler.viewer.v0+json": {
       "columns": [
        {
         "name": "country",
         "rawType": "object",
         "type": "string"
        },
        {
         "name": "consumption_co2",
         "rawType": "float64",
         "type": "float"
        }
       ],
       "ref": "b94bc84b-a048-4b3f-b4d5-9a6ac362ec70",
       "rows": [
        [
         "China",
         "193442.977"
        ],
        [
         "United States",
         "191985.75400000002"
        ],
        [
         "Japan",
         "46978.476"
        ],
        [
         "India",
         "45921.89"
        ],
        [
         "Germany",
         "33413.995"
        ],
        [
         "United Kingdom",
         "21312.691"
        ],
        [
         "Canada",
         "17914.7"
        ],
        [
         "Italy",
         "17708.583"
        ],
        [
         "France",
         "16075.551"
        ],
        [
         "Mexico",
         "15185.286"
        ],
        [
         "Saudi Arabia",
         "13768.052"
        ],
        [
         "Brazil",
         "13184.225"
        ],
        [
         "Indonesia",
         "12580.283"
        ],
        [
         "Australia",
         "10893.689"
        ],
        [
         "Poland",
         "10364.266"
        ],
        [
         "Spain",
         "10314.957"
        ],
        [
         "South Africa",
         "9916.652"
        ],
        [
         "Ukraine",
         "8664.928"
        ],
        [
         "Thailand",
         "6871.955"
        ],
        [
         "Belgium",
         "6474.593"
        ],
        [
         "Netherlands",
         "6212.058"
        ],
        [
         "Egypt",
         "5667.286"
        ],
        [
         "United Arab Emirates",
         "5283.518"
        ],
        [
         "Malaysia",
         "5246.556"
        ],
        [
         "Argentina",
         "5082.791"
        ],
        [
         "Pakistan",
         "4984.568"
        ],
        [
         "Kazakhstan",
         "4950.691"
        ],
        [
         "Singapore",
         "4426.399"
        ],
        [
         "Czechia",
         "3886.276"
        ],
        [
         "Switzerland",
         "3649.435"
        ],
        [
         "Philippines",
         "3623.7400000000002"
        ],
        [
         "Romania",
         "3209.3450000000003"
        ],
        [
         "Austria",
         "3149.775"
        ],
        [
         "Hong Kong",
         "3142.9320000000002"
        ],
        [
         "Nigeria",
         "2949.734"
        ],
        [
         "Greece",
         "2817.155"
        ],
        [
         "Sweden",
         "2686.607"
        ],
        [
         "Colombia",
         "2604.841"
        ],
        [
         "Portugal",
         "2517.639"
        ],
        [
         "Israel",
         "2449.205"
        ],
        [
         "Hungary",
         "2401.237"
        ],
        [
         "Finland",
         "2397.935"
        ],
        [
         "Kuwait",
         "2206.9410000000003"
        ],
        [
         "Chile",
         "2190.904"
        ],
        [
         "Denmark",
         "2011.224"
        ],
        [
         "Bangladesh",
         "2005.366"
        ],
        [
         "Belarus",
         "1752.9279999999999"
        ],
        [
         "Ireland",
         "1720.067"
        ],
        [
         "Morocco",
         "1682.116"
        ],
        [
         "Slovakia",
         "1535.95"
        ]
       ],
       "shape": {
        "columns": 1,
        "rows": 193
       }
      },
      "text/plain": [
       "country\n",
       "China                193442.977\n",
       "United States        191985.754\n",
       "Japan                 46978.476\n",
       "India                 45921.890\n",
       "Germany               33413.995\n",
       "                        ...    \n",
       "Turkmenistan              0.000\n",
       "Vanuatu                   0.000\n",
       "Uzbekistan                0.000\n",
       "Yemen                     0.000\n",
       "Wallis and Futuna         0.000\n",
       "Name: consumption_co2, Length: 193, dtype: float64"
      ]
     },
     "execution_count": 38,
     "metadata": {},
     "output_type": "execute_result"
    }
   ],
   "source": [
    "df_co2_data.groupby('country')['consumption_co2'].sum().sort_values(ascending=False)"
   ]
  },
  {
   "cell_type": "code",
   "execution_count": null,
   "id": "a83b0f62",
   "metadata": {},
   "outputs": [],
   "source": []
  }
 ],
 "metadata": {
  "kernelspec": {
   "display_name": "Python 3",
   "language": "python",
   "name": "python3"
  },
  "language_info": {
   "codemirror_mode": {
    "name": "ipython",
    "version": 3
   },
   "file_extension": ".py",
   "mimetype": "text/x-python",
   "name": "python",
   "nbconvert_exporter": "python",
   "pygments_lexer": "ipython3",
   "version": "3.11.9"
  }
 },
 "nbformat": 4,
 "nbformat_minor": 5
}
