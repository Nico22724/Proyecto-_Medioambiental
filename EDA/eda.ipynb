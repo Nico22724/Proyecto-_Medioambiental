{
 "cells": [
  {
   "cell_type": "code",
   "execution_count": 1,
   "id": "acdfa26d",
   "metadata": {},
   "outputs": [],
   "source": [
    "import pandas as pd\n",
    "import seaborn as sns\n",
    "import matplotlib.pyplot as plt"
   ]
  },
  {
   "cell_type": "markdown",
   "id": "d1b461f5",
   "metadata": {},
   "source": [
    "<h1>Exploratory Data Analysis</h1>\n",
    "<p>In this section, we will conduct an analysis to identify correlations, anomalies, and statistics that reveal patterns or trends.</p>\n",
    "<p>This step is essential for any subsequent analysis, as it provides an initial understanding of our data.</p>\n",
    "<p>Exploratory Data Analysis (EDA) allows us to understand the structure, quality, and main characteristics of the data before applying models or making decisions. Through visualizations, descriptive statistics, and the detection of outliers, we can identify potential issues, relationships between variables, and opportunities to improve the analysis.</p>\n",
    "<p>We will use tools such as pandas, matplotlib, and seaborn to explore the data both visually and numerically, facilitating interpretation and informed decision-making in the"
   ]
  },
  {
   "cell_type": "markdown",
   "id": "852f85c4",
   "metadata": {},
   "source": [
    "<h5>Let's start by analyzing the main dataset: co2_data_clean</h5>"
   ]
  },
  {
   "cell_type": "code",
   "execution_count": 1,
   "id": "d798eb92",
   "metadata": {},
   "outputs": [
    {
     "ename": "NameError",
     "evalue": "name 'pd' is not defined",
     "output_type": "error",
     "traceback": [
      "\u001b[31m---------------------------------------------------------------------------\u001b[39m",
      "\u001b[31mNameError\u001b[39m                                 Traceback (most recent call last)",
      "\u001b[36mCell\u001b[39m\u001b[36m \u001b[39m\u001b[32mIn[1]\u001b[39m\u001b[32m, line 1\u001b[39m\n\u001b[32m----> \u001b[39m\u001b[32m1\u001b[39m df_co2_data = \u001b[43mpd\u001b[49m.read_csv(\u001b[33m'\u001b[39m\u001b[33mhttps://raw.githubusercontent.com/Nico22724/Proyecto-_Medioambiental/refs/heads/main/Datasets/Datasets\u001b[39m\u001b[33m%\u001b[39m\u001b[33m20Cleaned/co2_data.csv\u001b[39m\u001b[33m'\u001b[39m)\n",
      "\u001b[31mNameError\u001b[39m: name 'pd' is not defined"
     ]
    }
   ],
   "source": [
    "df_co2_data = pd.read_csv('https://raw.githubusercontent.com/Nico22724/Proyecto-_Medioambiental/refs/heads/main/Datasets/Datasets%20Cleaned/co2_data.csv')"
   ]
  },
  {
   "cell_type": "markdown",
   "id": "cc27658e",
   "metadata": {},
   "source": [
    "<p><strong>1. country:</strong> El nombre del país al que corresponden los datos.</p>\n",
    "<p><strong>2. year:</strong> El año en el que se recopilaron los datos.</p>\n",
    "<p><strong>3. iso_code:</strong> El código ISO del país, una forma estándar de identificar países (por ejemplo, \"US\" para Estados Unidos).</p>\n",
    "<p><strong>4. population:</strong> La población total del país en ese año.</p>\n",
    "<p><strong>5. gdp:</strong> El Producto Interno Bruto (PIB) total del país en el año dado, generalmente medido en términos monetarios.</p>\n",
    "<p><strong>6. cement_co2:</strong> Las emisiones de CO2 atribuibles al sector del cemento en el país.</p>\n",
    "<p><strong>7. cement_co2_per_capita:</strong> Las emisiones de CO2 del sector del cemento por persona en el país.</p>\n",
    "<p><strong>8. co2:</strong> Las emisiones totales de CO2 del país.</p>\n",
    "<p><strong>9. co2_including_luc:</strong> Las emisiones totales de CO2 incluyendo el uso de la tierra y los cambios en el uso del suelo (Land Use Change, LUC).</p>\n",
    "<p><strong>10. co2_including_luc_per_capita:</strong> Las emisiones de CO2 per cápita, incluyendo el uso de la tierra y los cambios en el uso del suelo.</p>\n",
    "<p><strong>11. co2_including_luc_per_gdp:</strong> Las emisiones de CO2 por unidad de PIB, considerando también el uso de la tierra y cambios en el uso del suelo.</p>\n",
    "<p><strong>12. co2_including_luc_per_unit_energy:</strong> Las emisiones de CO2 por unidad de energía consumida, con LUC incluido.</p>\n",
    "<p><strong>13. co2_per_capita:</strong> Las emisiones de CO2 per cápita (por persona) del país.</p>\n",
    "<p><strong>14. co2_per_gdp:</strong> Las emisiones de CO2 por unidad de PIB del país.</p>\n",
    "<p><strong>15. co2_per_unit_energy:</strong> Las emisiones de CO2 por unidad de energía consumida en el país.</p>\n",
    "<p><strong>16. coal_co2:</strong> Las emisiones de CO2 generadas por el uso del carbón en el país.</p>\n",
    "<p><strong>17. coal_co2_per_capita:</strong> Las emisiones de CO2 generadas por el uso del carbón por persona en el país.</p>\n",
    "<p><strong>18. consumption_co2:</strong> Las emisiones de CO2 asociadas con el consumo de energía del país (en lugar de la producción).</p>\n",
    "<p><strong>19. consumption_co2_per_capita:</strong> Las emisiones de CO2 asociadas con el consumo de energía per cápita.</p>\n",
    "<p><strong>20. consumption_co2_per_gdp:</strong> Las emisiones de CO2 asociadas con el consumo de energía por unidad de PIB.</p>\n",
    "<p><strong>21. energy_per_capita:</strong> La cantidad de energía consumida per cápita en el país.</p>\n",
    "<p><strong>22. energy_per_gdp:</strong> La cantidad de energía consumida por cada unidad de PIB.</p>\n",
    "<p><strong>23. flaring_co2:</strong> Las emisiones de CO2 generadas por la quema de gas (flaring).</p>\n",
    "<p><strong>24. flaring_co2_per_capita:</strong> Las emisiones de CO2 por flaring per cápita.</p>\n",
    "<p><strong>25. gas_co2:</strong> Las emisiones de CO2 generadas por el uso de gas.</p>\n",
    "<p><strong>26. gas_co2_per_capita:</strong> Las emisiones de CO2 generadas por el uso de gas per cápita.</p>\n",
    "<p><strong>27. land_use_change_co2:</strong> Las emisiones de CO2 asociadas con el cambio en el uso del suelo.</p>\n",
    "<p><strong>28. land_use_change_co2_per_capita:</strong> Las emisiones de CO2 del cambio de uso del suelo per cápita.</p>\n",
    "<p><strong>29. oil_co2:</strong> Las emisiones de CO2 generadas por el uso del petróleo en el país.</p>\n",
    "<p><strong>30. oil_co2_per_capita:</strong> Las emisiones de CO2 generadas por el uso del petróleo per cápita.</p>\n",
    "<p><strong>31. other_co2_per_capita:</strong> Otras emisiones de CO2 per cápita que no están relacionadas con las fuentes mencionadas específicamente (carbón, gas, petróleo, etc.).</p>\n",
    "<p><strong>32. other_industry_co2:</strong> Las emisiones de CO2 generadas por otros sectores industriales no mencionados específicamente en las demás categorías.</p>\n",
    "<p><strong>33. primary_energy_consumption:</strong> El consumo total de energía primaria (energía no procesada, como petróleo, gas, carbón, etc.).</p>\n",
    "<p><strong>34. trade_co2:</strong> Las emisiones de CO2 asociadas con el comercio internacional de productos energéticos.</p>\n",
    "<p><strong>35. trade_co2_share:</strong> La proporción de las emisiones de CO2 relacionadas con el comercio en comparación con las emisiones totales de CO2.</p>\n"
   ]
  },
  {
   "cell_type": "code",
   "execution_count": null,
   "id": "a83b0f62",
   "metadata": {},
   "outputs": [],
   "source": []
  }
 ],
 "metadata": {
  "kernelspec": {
   "display_name": "Python 3",
   "language": "python",
   "name": "python3"
  },
  "language_info": {
   "codemirror_mode": {
    "name": "ipython",
    "version": 3
   },
   "file_extension": ".py",
   "mimetype": "text/x-python",
   "name": "python",
   "nbconvert_exporter": "python",
   "pygments_lexer": "ipython3",
   "version": "3.13.5"
  }
 },
 "nbformat": 4,
 "nbformat_minor": 5
}
